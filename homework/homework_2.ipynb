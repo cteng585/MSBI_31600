{
 "cells": [
  {
   "cell_type": "markdown",
   "source": [
    "Q1: You are designing an online game and have two network layer protocols to choose from:\n",
    "TCP and UDP. The online game is a chess simulator played entirely within browsers. You are in\n",
    "charge of two features:\n",
    "\n",
    "1. an implementation of real time voice chat,\n",
    "2. the network handlers that send player data from the end user’s clients to your dedicated,\n",
    "central servers\n",
    "\n",
    "Which protocols do you use for each and why? You do not need to code these!"
   ],
   "metadata": {
    "collapsed": false,
    "pycharm": {
     "name": "#%% md\n"
    }
   }
  },
  {
   "cell_type": "markdown",
   "source": [
    "1. UDP is the better data transfer protocol choice for voice chat. Latency/lag is very important for the quality of voice calls, and a voice chat implementation in TCP would be both slower and prone to delays since the metadata that TCP packets are wrapped in would need to be parsed with each packet transfer and the state of each browser would need to be tracked. Additionally, small amounts of packet loss would not be too impactful for the overall audio quality of the call, so the downsides of UDP would not have a large effect on user experience.\n",
    "\n",
    "2. TCP is the better data transfer protocol for handling player data."
   ],
   "metadata": {
    "collapsed": false,
    "pycharm": {
     "name": "#%% md\n"
    }
   }
  },
  {
   "cell_type": "markdown",
   "source": [
    "Q2: Database dark arts:alchemy?\n",
    "An advanced database module that some individuals use is called sqlalchemy, which you can\n",
    "find here: https://www.sqlalchemy.org/. This module does something very special known as\n",
    "ORM - object-relational mapping. Do a little research and then, in your own words, explain what\n",
    "you think the unique, core purpose of this module is and why this feature is its distinguishing\n",
    "property."
   ],
   "metadata": {
    "collapsed": false,
    "pycharm": {
     "name": "#%% md\n"
    }
   }
  },
  {
   "cell_type": "markdown",
   "source": [
    "Object-relational mapping is a way of using object-oriented coding practices to query and interact with relational databases. By abstracting the database system, ORM libraries encourage good coding practices like code maintenance (because the data model is only implemented in one place, code is easier to maintain and update) and sanitized queries. Also, by leveraging the user's existing knowledge of Python and object-oriented programming practices, SQLAlchemy allows a user to implement and use SQL databases without requiring too much knowledge of SQL to get started."
   ],
   "metadata": {
    "collapsed": false,
    "pycharm": {
     "name": "#%% md\n"
    }
   }
  },
  {
   "cell_type": "markdown",
   "source": [
    "Coding 1: Networked number guessing.\n",
    "Using a network protocol of your choice, code a client/server Python program that implements a\n",
    "number guessing game. You may have to implement this in two notebooks to test it!\n",
    "The game should work in this fashion (4 points for each functionality piece):\n",
    "1. The server is always run first.\n",
    "2. The client connects, and when connected, asks the user for a numerical guess in a\n",
    "range from 0 to 100.\n",
    "3. The server should receive guesses, validate the guess, and send back either a high, low,\n",
    "or correct message.\n",
    "4. If the server sends back the correct message, the client should do something fun or\n",
    "interesting to celebrate this fact - more than merely print a text string.\n",
    "5. If the server sends back high or low, the client should then prompt for another guess."
   ],
   "metadata": {
    "collapsed": false,
    "pycharm": {
     "name": "#%% md\n"
    }
   }
  },
  {
   "cell_type": "code",
   "execution_count": 1,
   "outputs": [],
   "source": [
    "import json\n",
    "import random\n",
    "import socket\n",
    "\n",
    "def tcp_server(tcp_server_host, tcp_server_port) -> socket.socket:\n",
    "    \"\"\"\n",
    "    make a socket object that will serve as the server\n",
    "\n",
    "    :param tcp_server_host: designate the machine hosting the TCP server\n",
    "    :param tcp_server_port: designate the port the host machine will listen through\n",
    "\n",
    "    :return: a TCP socket object\n",
    "    \"\"\"\n",
    "\n",
    "    # socket.SOCK_STREAM specifies that the socket should listen for TCP connections\n",
    "    tcp_server_socket = socket.socket(socket.AF_INET, socket.SOCK_STREAM)\n",
    "\n",
    "    # bind the socket and open the previously designated port for listening\n",
    "    tcp_server_socket.bind((tcp_server_host, tcp_server_port))\n",
    "\n",
    "    # argument passed to listen is the backlog size where the backlog is the maximum\n",
    "    # number of pending TCP connections that the socket can queue at once. connections\n",
    "    # over the maximum backlog size will be turned away/dropped\n",
    "    tcp_server_socket.listen(5)\n",
    "\n",
    "    return tcp_server_socket\n",
    "\n",
    "\n",
    "def random_number_server(host=\"localhost\", port=3360, packet_size=128):\n",
    "    \"\"\"\n",
    "    start the server that will host the random number guessing game\n",
    "\n",
    "    :param host: designate the machine hosting the TCP server (localhost by default)\n",
    "    :param port: designate the port the host machine will listen through (3360 by default)\n",
    "    :param packet_size: how large of a chunk of data the server should receive with any one data transmission (128 bytes by default)\n",
    "\n",
    "    :return:\n",
    "    \"\"\"\n",
    "\n",
    "    # instantiate the TCP socket object\n",
    "    server = tcp_server(host, port)\n",
    "\n",
    "    # choose a random integer between 0 and 100 inclusive\n",
    "    random_number = random.choice(range(0,101))\n",
    "\n",
    "    # print the random number for debugging purposes\n",
    "    print(random_number)\n",
    "\n",
    "    # listen for an attempted TCP connection and acknowledge on connect\n",
    "    # to ensure that the client can handle a rejected connection correctly\n",
    "    client_socket, address = server.accept()\n",
    "    client_socket.send(\"connected\".encode())\n",
    "\n",
    "    # while the guess received is incorrect, maintain the connection\n",
    "    # so that more guesses can be made\n",
    "    correct_guess = False\n",
    "    while not correct_guess:\n",
    "\n",
    "        # get the guess from the client\n",
    "        data = client_socket.recv(packet_size)\n",
    "\n",
    "        # decode the guess from the client, and send a JSON as a response\n",
    "        try:\n",
    "            if random_number > int(data.decode()):\n",
    "                result = {\n",
    "                    \"result\": \"too small\",\n",
    "                    \"image\": \"https://media.tenor.com/hv9sKiPlpooAAAAC/gif-shinobi-you-are-wrong.gif\"\n",
    "                }\n",
    "                client_socket.send(json.dumps(result).encode())\n",
    "            elif random_number < int(data.decode()):\n",
    "                result = {\n",
    "                    \"result\": \"too big\",\n",
    "                    \"image\": \"https://media.tenor.com/hv9sKiPlpooAAAAC/gif-shinobi-you-are-wrong.gif\"\n",
    "                }\n",
    "                client_socket.send(json.dumps(result).encode())\n",
    "            else:\n",
    "                result = {\n",
    "                    \"result\": \"just right\",\n",
    "                    \"image\": \"https://media.tenor.com/qNPpRT04stcAAAAd/you-won-willy-wonka-and-the-chocolate-factory.gif\"\n",
    "                }\n",
    "                client_socket.send(json.dumps(result).encode())\n",
    "\n",
    "                # close the client-server connection if the guess is right to clean up\n",
    "                correct_guess = True\n",
    "                client_socket.close()\n",
    "\n",
    "        # handle the case where the user input cannot be cast to an int\n",
    "        except ValueError:\n",
    "            result = {\n",
    "                    \"result\": \"wrong type\",\n",
    "                    \"image\": \"https://media.tenor.com/hv9sKiPlpooAAAAC/gif-shinobi-you-are-wrong.gif\"\n",
    "                }\n",
    "            client_socket.send(json.dumps(result).encode())\n",
    "\n",
    "        # capture general exceptions for debugging purposes\n",
    "        except Exception as e:\n",
    "            print(f\"Error type {type(e).__name__} with message {e}\")\n",
    "\n",
    "    # close the server socket for clean up\n",
    "    server.close()"
   ],
   "metadata": {
    "collapsed": false,
    "pycharm": {
     "name": "#%%\n"
    }
   }
  },
  {
   "cell_type": "code",
   "execution_count": 2,
   "outputs": [
    {
     "name": "stdout",
     "output_type": "stream",
     "text": [
      "37\n"
     ]
    }
   ],
   "source": [
    "random_number_server(port=3360, packet_size=4096)"
   ],
   "metadata": {
    "collapsed": false,
    "pycharm": {
     "name": "#%%\n"
    }
   }
  },
  {
   "cell_type": "markdown",
   "source": [
    "Coding 2: REQUEST? NO! I demand gracefully.\n",
    "Using the requests module, request four different pieces of data from an API of your choosing.\n",
    "You may use the one(s) in the class slides if you wish. We shall define different to mean that\n",
    "each piece of data is unique in its content - no grabbing one piece of data with four different\n",
    "filenames! (10 - 2.5 points per piece of data)\n",
    "Once requested, your code should store this data locally on your device in an appropriate\n",
    "persistent file format. You must use at least two different formats - I recommend JSON, XML, or\n",
    "databases, though you can pickle if you wish. (2.5 points for each)"
   ],
   "metadata": {
    "collapsed": false,
    "pycharm": {
     "name": "#%% md\n"
    }
   }
  },
  {
   "cell_type": "code",
   "execution_count": 51,
   "outputs": [],
   "source": [
    "import requests\n",
    "\n",
    "# server for accessing data on the human GRCh37 assembly\n",
    "server = \"http://grch37.rest.ensembl.org/\"\n",
    "\n",
    "# content header to let the API know how we would like our output\n",
    "headers = {\"Content-Type\": \"application/json\"}\n",
    "\n",
    "# our gene of interest is CYP2D6"
   ],
   "metadata": {
    "collapsed": false,
    "pycharm": {
     "name": "#%%\n"
    }
   }
  },
  {
   "cell_type": "code",
   "execution_count": 3,
   "outputs": [],
   "source": [
    "import json\n",
    "import requests\n",
    "\n",
    "class HumanGeneDownload:\n",
    "    \"\"\"\n",
    "    class to download the ensembl-associated sequences for a\n",
    "    particular gene symbol (e.g. BRCA1)\n",
    "    \"\"\"\n",
    "\n",
    "    # server for accessing data on the human GRCh37 assembly\n",
    "    __ensembl_server = \"http://grch37.rest.ensembl.org/\"\n",
    "\n",
    "    def __init__(self, gene_name: str):\n",
    "        self.__gene_name = gene_name\n",
    "        self.__ensembl_ids = self.__get_ensembl_ids()\n",
    "        self.__make_gene_sequence_outputs()\n",
    "\n",
    "    def gene_name(self):\n",
    "        return self.__gene_name\n",
    "\n",
    "    def ensembl_ids(self):\n",
    "        return self.__ensembl_ids\n",
    "\n",
    "    def __get_ensembl_ids(self):\n",
    "        \"\"\"\n",
    "        get a list of ensembl ids associated with the gene of interest\n",
    "\n",
    "        :return: a list of dicts containing the associated ensembl ids and the types of ids\n",
    "        \"\"\"\n",
    "\n",
    "        # content header to let the API know how information is being sent\n",
    "        headers = {\"Content-Type\": \"application/json\"}\n",
    "\n",
    "        r = requests.get(\n",
    "            self.__ensembl_server + f\"xrefs/symbol/homo_sapiens/{self.__gene_name}\",\n",
    "            headers=headers,\n",
    "        )\n",
    "\n",
    "        if r.json():\n",
    "            return r.json()\n",
    "        else:\n",
    "            raise ValueError(\"Invalid gene name. Expected a well-characterized human gene name\")\n",
    "\n",
    "    def __make_gene_sequence_outputs(self):\n",
    "        \"\"\"\n",
    "        get the gene sequences for each ensembl gene id associated with the gene symbol and write\n",
    "        to XML and JSON output formats\n",
    "\n",
    "        :return: dict of gene ids and their sequences\n",
    "        \"\"\"\n",
    "\n",
    "        # content header to let the API know to give a response as a json\n",
    "        json_headers = {\n",
    "            \"Content-Type\": \"application/json\",\n",
    "            \"Accept\": \"application/json\"\n",
    "        }\n",
    "\n",
    "        # content header to let the API know to give a response as a xml\n",
    "        xml_headers = {\n",
    "            \"Content-Type\": \"application/json\",\n",
    "            \"Accept\": \"text/xml\"\n",
    "        }\n",
    "\n",
    "        # get only the ids that are gene ids. associated ensembl ids can also be transcript ids which aren't\n",
    "        # valid stable IDs for the sequence endpoint\n",
    "        gene_ids = [ensembl_id[\"id\"] for ensembl_id in self.__ensembl_ids if ensembl_id[\"type\"] == \"gene\"]\n",
    "        data = json.dumps({\"ids\": gene_ids})\n",
    "\n",
    "        # first get a response in JSON format\n",
    "        r = requests.post(\n",
    "            self.__ensembl_server + f\"sequence/id\",\n",
    "            headers=json_headers,\n",
    "            data=data\n",
    "        )\n",
    "        json_response = r.json()\n",
    "\n",
    "        # then get a response in XML format\n",
    "        r = requests.post(\n",
    "            self.__ensembl_server + f\"sequence/id\",\n",
    "            headers=xml_headers,\n",
    "            data=data\n",
    "        )\n",
    "        xml_response = r.content.decode()\n",
    "\n",
    "        # write relevant output formats\n",
    "        with open(f\"{self.__gene_name}_ensembl_sequences.json\", \"w\") as outfile:\n",
    "            json.dump(json_response, outfile, indent=4)\n",
    "\n",
    "        with open(f\"{self.__gene_name}_ensembl_sequences.xml\", \"w\") as outfile:\n",
    "            outfile.write(xml_response)"
   ],
   "metadata": {
    "collapsed": false,
    "pycharm": {
     "name": "#%%\n"
    }
   }
  },
  {
   "cell_type": "code",
   "execution_count": 4,
   "outputs": [
    {
     "data": {
      "text/plain": "<__main__.HumanGeneDownload at 0x105c846d0>"
     },
     "execution_count": 4,
     "metadata": {},
     "output_type": "execute_result"
    }
   ],
   "source": [
    "HumanGeneDownload(\"brca1\")\n",
    "HumanGeneDownload(\"map3k15\")\n",
    "HumanGeneDownload(\"p53\")\n",
    "HumanGeneDownload(\"eln\")"
   ],
   "metadata": {
    "collapsed": false,
    "pycharm": {
     "name": "#%%\n"
    }
   }
  },
  {
   "cell_type": "code",
   "execution_count": null,
   "outputs": [],
   "source": [],
   "metadata": {
    "collapsed": false,
    "pycharm": {
     "name": "#%%\n"
    }
   }
  }
 ],
 "metadata": {
  "kernelspec": {
   "display_name": "Python 3",
   "language": "python",
   "name": "python3"
  },
  "language_info": {
   "codemirror_mode": {
    "name": "ipython",
    "version": 2
   },
   "file_extension": ".py",
   "mimetype": "text/x-python",
   "name": "python",
   "nbconvert_exporter": "python",
   "pygments_lexer": "ipython2",
   "version": "2.7.6"
  }
 },
 "nbformat": 4,
 "nbformat_minor": 0
}