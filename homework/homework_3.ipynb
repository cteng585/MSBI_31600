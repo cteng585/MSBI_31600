{
 "cells": [
  {
   "cell_type": "markdown",
   "source": [
    "Q1: Et tu, Matplotlib?\n",
    "\n",
    "As mentioned in class, there are plenty of visualization toolkits in the Python ecosystem you\n",
    "could use. Almost all of them claim to be better than Matplotlib in one way or another, and many\n",
    "might very well be! Try checking out one of the following toolkits and exploring where you think it\n",
    "excels compared to your basic understanding of Matplotlib - or where it seems just as good.\n",
    "Write a paragraph or two about what you find out. Support your case with examples of a\n",
    "problem and how you’d apply the toolkit vs. matplotlib. +5 extra credit points for coding a\n",
    "unique​ example using the package you research (unique meaning that the example is entirely\n",
    "your own and not directly from an example gallery, using data you made or randomly\n",
    "generated). You must cite your sources appropriately.\n",
    "\n",
    "Potential choices to explore:\n",
    "1. Bokeh\n",
    "2. Plotly\n",
    "3. Altair (this one is a bit interesting)\n",
    "4. d3js/d3py (this one is even more interesting!)\n",
    "5. Choose your own! Please link its location if you do."
   ],
   "metadata": {
    "collapsed": false,
    "pycharm": {
     "name": "#%% md\n"
    }
   }
  },
  {
   "cell_type": "markdown",
   "source": [
    "**matplotlib vs plotly**\n",
    "\n",
    "The `matplotlib` library serves as the basis for many of the other popular visualization libraries that are available, including both `seaborn` _and_ `plotly`. Because of its widespread distribution, it is likely that any environment that uses Python will be compatible with `matplotlib`. Additionally, because each plot element is explicitly declared, customization of plots through `matplotlib` is very deep. Thus, creating detailed explanatory visualizations is where `matplotlib` is excellent.\n",
    "\n",
    "As a wrapper around the `matplotlib` library, `plotly` enables cleaner code and more out-of-the-box features if one wants to generate pre-canned visualizations immediately. `plotly` also appears to be more specialized for interactive visualizations, which would be preferred for exploratory data presentations.\n",
    "\n",
    "_Source_: `https://towardsdatascience.com/matplotlib-vs-plotly-express-which-one-is-the-best-library-for-data-visualization-7a96dbe3ff09`"
   ],
   "metadata": {
    "collapsed": false,
    "pycharm": {
     "name": "#%% md\n"
    }
   }
  },
  {
   "cell_type": "markdown",
   "source": [
    "Q2: Graphical programming has layers.\n",
    "\n",
    "Just like networking programming, graphical programming has the idea of an abstracted “stack,”\n",
    "where hardware, software, and the operating system work together to support applications.\n",
    "Tkinter and friends are actually much like “applications” from our OSI networking model, AKA\n",
    "layer 7. However, there is another kind of graphical API (not the network kind - the kind of API\n",
    "used by graphics hardware!) that lives elsewhere in the stack. Examples of these APIs are\n",
    "OpenGL, Direct3D, Metal (for Apple computers only), and Vulkan.\n",
    "\n",
    "Research one of the examples mentioned and then, in your own words, explain the function of\n",
    "these graphical APIs and how they differ from tkinter or similar toolkits. Write a paragraph or\n",
    "two. Include one example in which these toolkits would be a wiser choice than tkinter and\n",
    "friends, and one example in which an application-based toolkit, such as tkinter, would be\n",
    "the preferred choice.  Explain why. You must cite your sources appropriately."
   ],
   "metadata": {
    "collapsed": false,
    "pycharm": {
     "name": "#%% md\n"
    }
   }
  },
  {
   "cell_type": "markdown",
   "source": [
    "Graphical APIs like OpenGL and Vulkan exist in a suite of software that are used to communicate with graphics hardware through graphics drivers, which are themselves software that tell the hardware specifically how to turn bytes into images. Thus, using a toolkit such as OpenGL or Vulkan is ideal when trying to tell the computer how to draw on the screen in applications such as in games. Toolkits such as tkinter are \"higher\" in the stack, are more specialized, and used for specific applications (e.g. constructing GUIs).\n",
    "\n",
    "_Source_: https://www.descript.com/blog/article/what-is-a-graphics-driver-everything-you-need-to-know"
   ],
   "metadata": {
    "collapsed": false,
    "pycharm": {
     "name": "#%% md\n"
    }
   }
  },
  {
   "cell_type": "code",
   "execution_count": 7,
   "metadata": {
    "collapsed": true,
    "pycharm": {
     "name": "#%%\n"
    }
   },
   "outputs": [],
   "source": [
    "%%python\n",
    "from functools import partial\n",
    "from tkinter import *\n",
    "from tkinter import ttk\n",
    "\n",
    "def convert(*args, **kwargs):\n",
    "    input_units = kwargs.get(\"input_units\")\n",
    "    try:\n",
    "        input_value = float(conversions[input_units][\"input_var\"].get())\n",
    "\n",
    "        if conversions[input_units][\"output_units\"] == \"Farenheit\":\n",
    "            output_value = (input_value * 9/5) + float(32)\n",
    "        elif conversions[input_units][\"output_units\"] == \"Celsius\":\n",
    "            output_value = (input_value - 32) * (5/9)\n",
    "\n",
    "        conversions[input_units][\"output_var\"].set(f\"{output_value:.1f}\")\n",
    "\n",
    "    except ValueError:\n",
    "        pass\n",
    "\n",
    "\n",
    "def clear_text(**kwargs):\n",
    "    entry_obj = kwargs.get(\"entry\")\n",
    "    entry_obj.delete(0, \"end\")\n",
    "    output_obj = kwargs.get(\"output\")\n",
    "    output_obj.set(\"\")\n",
    "\n",
    "\n",
    "root = Tk()\n",
    "root.title(\"Temperature Conversion\")\n",
    "\n",
    "mainframe = ttk.Frame(root, padding=\"3 3 12 12\")\n",
    "mainframe.grid(column=0, row=0, sticky=(N, W, E, S))\n",
    "root.columnconfigure(0, weight=1)\n",
    "root.rowconfigure(0, weight=1)\n",
    "\n",
    "conversions = {\n",
    "    \"farenheit\": {\n",
    "        \"input_var\": StringVar(),\n",
    "        \"input_units\": \"Farenheit\",\n",
    "        \"output_var\": StringVar(),\n",
    "        \"output_units\": \"Celsius\",\n",
    "        \"description\": \"Convert F to C\",\n",
    "    },\n",
    "    \"celsius\": {\n",
    "        \"input_var\": StringVar(),\n",
    "        \"input_units\": \"Celsius\",\n",
    "        \"output_var\": StringVar(),\n",
    "        \"output_units\": \"Farenheit\",\n",
    "        \"description\": \"Convert C to F\",\n",
    "    }\n",
    "}\n",
    "\n",
    "row = 1\n",
    "for unit in conversions.keys():\n",
    "    input_entry = ttk.Entry(mainframe, width=7, textvariable=conversions[unit][\"input_var\"])\n",
    "    input_entry.grid(column=1, row=row, sticky=(W,E))\n",
    "    ttk.Label(mainframe, text=conversions[unit][\"input_units\"]).grid(column=2, row=row, sticky=W)\n",
    "    ttk.Label(mainframe, text=\"is equivalent to\").grid(column=3, row=row, sticky=E)\n",
    "\n",
    "    output_value = ttk.Label(mainframe, textvariable=conversions[unit][\"output_var\"])\n",
    "    output_value.grid(column=4, row=row, sticky=(W,E))\n",
    "    ttk.Label(mainframe, text=conversions[unit][\"output_units\"]).grid(column=5, row=row, sticky=W)\n",
    "\n",
    "    convert_button = ttk.Button(mainframe, text=conversions[unit][\"description\"], command=partial(convert, input_units=unit))\n",
    "    convert_button.grid(column=6, row=row, sticky=W)\n",
    "\n",
    "    clear_button = ttk.Button(mainframe, text=\"Clear Text\", command=partial(clear_text, entry=input_entry, output=conversions[unit][\"output_var\"]))\n",
    "    clear_button.grid(column=7, row=row, sticky=W)\n",
    "\n",
    "    row += 1\n",
    "\n",
    "app_desc = \"A simple app that helps Americans understand Canadian temperatures and vice versa\"\n",
    "ttk.Label(mainframe, text=app_desc).grid(columns=2, columnspan=7)\n",
    "\n",
    "quit_button = ttk.Button(mainframe, text=\"Quit\", command=quit)\n",
    "quit_button.grid(column=4)\n",
    "\n",
    "for child in mainframe.winfo_children():\n",
    "    child.grid_configure(padx=5, pady=5)\n",
    "\n",
    "root.mainloop()"
   ]
  }
 ],
 "metadata": {
  "kernelspec": {
   "display_name": "Python 3",
   "language": "python",
   "name": "python3"
  },
  "language_info": {
   "codemirror_mode": {
    "name": "ipython",
    "version": 2
   },
   "file_extension": ".py",
   "mimetype": "text/x-python",
   "name": "python",
   "nbconvert_exporter": "python",
   "pygments_lexer": "ipython2",
   "version": "2.7.6"
  }
 },
 "nbformat": 4,
 "nbformat_minor": 0
}